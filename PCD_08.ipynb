{
  "nbformat": 4,
  "nbformat_minor": 0,
  "metadata": {
    "colab": {
      "provenance": []
    },
    "kernelspec": {
      "name": "python3",
      "display_name": "Python 3"
    },
    "language_info": {
      "name": "python"
    }
  },
  "cells": [
    {
      "cell_type": "markdown",
      "source": [
        "# Mengganti green screen dengan gambar lain\n",
        "\n",
        "Menggunakan matplotlib dan opencv"
      ],
      "metadata": {
        "id": "udImtKSALW7r"
      }
    },
    {
      "cell_type": "markdown",
      "source": [
        "# 1. Load gambar"
      ],
      "metadata": {
        "id": "Qd5WBFViLcsU"
      }
    },
    {
      "cell_type": "code",
      "execution_count": null,
      "metadata": {
        "id": "x7UOP2eCI1Zy"
      },
      "outputs": [],
      "source": [
        "import matplotlib.pyplot as plt \n",
        "\n",
        "# Gambar dengan green screen\n",
        "imgreen = plt.imread(\"green.jpg\")\n",
        "\n",
        "# Gambar background untuk replace\n",
        "imback = plt.imread(\"garden.jpg\")\n",
        "\n",
        "plt.figure()\n",
        "plt.imshow(imgreen)\n",
        "plt.figure()\n",
        "plt.imshow(imback)"
      ]
    },
    {
      "cell_type": "markdown",
      "source": [
        "# 2. Resize background image"
      ],
      "metadata": {
        "id": "ZKU1tF-DMR1f"
      }
    },
    {
      "cell_type": "code",
      "source": [
        "import cv2\n",
        "\n",
        "width = imgreen[:,:,0].shape[1]\n",
        "height = imgreen[:,:,0].shape[0]\n",
        "\n",
        "image_back = cv2.resize(imback,(width,height))\n",
        "\n",
        "plt.figure()\n",
        "plt.imshow(imback)\n",
        "plt.figure()\n",
        "plt.imshow(image_back)"
      ],
      "metadata": {
        "id": "KLVdVxcKM0lk"
      },
      "execution_count": null,
      "outputs": []
    },
    {
      "cell_type": "markdown",
      "source": [
        "# 3. Cari rentang warna hijau"
      ],
      "metadata": {
        "id": "MhtwsCN3Oo9P"
      }
    },
    {
      "cell_type": "code",
      "source": [
        "import numpy as np\n",
        "\n",
        "green_rgb = np.uint8([[[0,255,0]]])\n",
        "cv2.cvtColor(green_rgb,cv2.COLOR_RGB2HSV)"
      ],
      "metadata": {
        "id": "5oM1KdG9Or6C"
      },
      "execution_count": null,
      "outputs": []
    },
    {
      "cell_type": "markdown",
      "source": [
        "# 4. Mengambil mask"
      ],
      "metadata": {
        "id": "ZkkDcROqP-Bb"
      }
    },
    {
      "cell_type": "code",
      "source": [
        "upper = np.array([70,255,255])\n",
        "lower = np.array([50,200,200])\n",
        "\n",
        "# ubah gambar ke hsv\n",
        "imgreen_hsv = cv2.cvtColor(imgreen,cv2.COLOR_RGB2HSV)\n",
        "\n",
        "# ambil mask\n",
        "mask = cv2.inRange(imgreen_hsv,lower,upper)\n",
        "\n",
        "plt.imshow(mask,cmap=plt.cm.gray)"
      ],
      "metadata": {
        "id": "-DYWmfihQEUd"
      },
      "execution_count": null,
      "outputs": []
    },
    {
      "cell_type": "markdown",
      "source": [
        "# 5. Aplikasikan mask di gambar asli"
      ],
      "metadata": {
        "id": "jQjYtNOcRh6W"
      }
    },
    {
      "cell_type": "code",
      "source": [
        "imgreen_mask = imgreen.copy()\n",
        "imgreen_mask[mask != 0] = [0,0,0]\n",
        "\n",
        "plt.imshow(imgreen_mask)"
      ],
      "metadata": {
        "id": "DHzbEYZeROFT"
      },
      "execution_count": null,
      "outputs": []
    },
    {
      "cell_type": "markdown",
      "source": [
        "# 6. Aplikasikan mask ke background"
      ],
      "metadata": {
        "id": "H_QAPMt7SHSy"
      }
    },
    {
      "cell_type": "code",
      "source": [
        "image_back[mask == 0] = [0,0,0]\n",
        "\n",
        "plt.imshow(image_back)"
      ],
      "metadata": {
        "id": "uEkruu1DSL-O"
      },
      "execution_count": null,
      "outputs": []
    },
    {
      "cell_type": "markdown",
      "source": [
        "# 7. Kombinasikan"
      ],
      "metadata": {
        "id": "aZJafIdeSes2"
      }
    },
    {
      "cell_type": "code",
      "source": [
        "final = imgreen_mask + image_back\n",
        "\n",
        "plt.imshow(final)"
      ],
      "metadata": {
        "id": "26IWA-ABShdC"
      },
      "execution_count": null,
      "outputs": []
    }
  ]
}